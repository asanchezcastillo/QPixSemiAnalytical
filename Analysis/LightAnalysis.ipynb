{
 "cells": [
  {
   "cell_type": "code",
   "execution_count": 38,
   "id": "890490cc",
   "metadata": {},
   "outputs": [],
   "source": [
    "import numpy as np\n",
    "import matplotlib.pyplot as plt\n",
    "import matplotlib as mpl\n",
    "import uproot"
   ]
  },
  {
   "cell_type": "markdown",
   "id": "44fd0d11",
   "metadata": {},
   "source": [
    "# Read File Information"
   ]
  },
  {
   "cell_type": "code",
   "execution_count": 53,
   "id": "6a7e301b",
   "metadata": {},
   "outputs": [],
   "source": [
    "fileName = 'output_0.root'\n",
    "treeName = 'event'\n",
    "input_file = uproot.open(fileName)   \n",
    "\n",
    "def ReadTree(fileName, tree, label):\n",
    "    inputFile = uproot.open(fileName)   \n",
    "    DataTree=inputFile[tree]\n",
    "    Branch=DataTree.arrays()\n",
    "    return Branch[label][0]  \n",
    "\n",
    "fileName='output_0.root'\n",
    "tree='event'\n",
    "SavedPhotons=ReadTree(fileName, tree, 'SavedPhotons')\n",
    "\n",
    "TotalPhotonsPerOpDet=[] #List containing the total number of photons detected by each channel.\n",
    "Times=[] #List containing all time ticks at which a photons was detected.\n",
    "for channel in range(0, len(SavedPhotons)):\n",
    "    TotalPhotonsPerOpDet.append(len(SavedPhotons[channel]))\n",
    "    for detected in range(len(SavedPhotons[channel])):\n",
    "        Times.append(int(SavedPhotons[channel][detected]))\n",
    "        \n",
    "maxTime=max(Times) #Maximum time range\n",
    "nDetectors=len(SavedPhotons) #Number of channels\n",
    "TimeMap=np.zeros((maxTime, nDetectors)) #Array containing the number of photons detected by each channel at each time tick\n",
    "\n",
    "for detector in range(0,nDetectors):\n",
    "    for photon in range(0, TotalPhotonsPerOpDet[detector]):\n",
    "        TimeMap[int(SavedPhotons[detector][photon])-1,detector]+=1"
   ]
  },
  {
   "cell_type": "markdown",
   "id": "55f54ade",
   "metadata": {},
   "source": [
    "# Plot event signal"
   ]
  },
  {
   "cell_type": "code",
   "execution_count": null,
   "id": "ad7a6ea0",
   "metadata": {},
   "outputs": [],
   "source": [
    "fig, ax = plt.subplots(1, figsize=(11,8))\n",
    "\n",
    "ax.hist(Times, histtype='step', lw=2, bins=max(Times), range=[0, max(Times)], color='indianred')\n",
    "ax.tick_params(axis='both', which='major', labelsize=18)\n",
    "ax.minorticks_on()\n",
    "ax.set_ylabel('Number of couts', fontsize=18)\n",
    "ax.set_xlabel('Time [ns]', fontsize=18)\n",
    "ax.set_title('Time distribution',fontsize=18)\n",
    "ax.grid()"
   ]
  }
 ],
 "metadata": {
  "kernelspec": {
   "display_name": "py_3_10_8_env",
   "language": "python",
   "name": "py_3_10_8_env"
  },
  "language_info": {
   "codemirror_mode": {
    "name": "ipython",
    "version": 3
   },
   "file_extension": ".py",
   "mimetype": "text/x-python",
   "name": "python",
   "nbconvert_exporter": "python",
   "pygments_lexer": "ipython3",
   "version": "3.10.5"
  }
 },
 "nbformat": 4,
 "nbformat_minor": 5
}
