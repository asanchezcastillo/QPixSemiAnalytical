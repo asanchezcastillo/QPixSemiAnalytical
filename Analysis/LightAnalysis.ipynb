{
 "cells": [
  {
   "cell_type": "code",
   "execution_count": 38,
   "id": "40302af3",
   "metadata": {},
   "outputs": [],
   "source": [
    "import numpy as np\n",
    "import matplotlib.pyplot as plt\n",
    "import matplotlib as mpl\n",
    "import uproot"
   ]
  },
  {
   "cell_type": "code",
   "execution_count": 53,
   "id": "a47bf324",
   "metadata": {},
   "outputs": [],
   "source": [
    "fileName = 'output_0.root'\n",
    "treeName = 'event'\n",
    "input_file = uproot.open(fileName)   \n",
    "\n",
    "def ReadTree(fileName, tree, label):\n",
    "    inputFile = uproot.open(fileName)   \n",
    "    DataTree=inputFile[tree]\n",
    "    Branch=DataTree.arrays()\n",
    "    return Branch[label][0]  \n",
    "\n",
    "fileName='output_0.root'\n",
    "tree='event'\n",
    "SavedPhotons=ReadTree(fileName, tree, 'SavedPhotons')\n",
    "\n",
    "TotalPhotonsPerOpDet=[] #List containing the total number of photons detected by each channel.\n",
    "Times=[] #List containing all time ticks at which a photons was detected.\n",
    "for channel in range(0, len(SavedPhotons)):\n",
    "    TotalPhotonsPerOpDet.append(len(SavedPhotons[channel]))\n",
    "    for detected in range(len(SavedPhotons[channel])):\n",
    "        Times.append(int(SavedPhotons[channel][detected]))"
   ]
  },
  {
   "cell_type": "code",
   "execution_count": null,
   "id": "f828cc59",
   "metadata": {},
   "outputs": [],
   "source": [
    "fig, ax = plt.subplots(1, figsize=(11,8))\n",
    "\n",
    "ax.hist(Times, histtype='step', lw=2, bins=max(Times), range=[0, max(Times)], color='indianred')\n",
    "ax.tick_params(axis='both', which='major', labelsize=18)\n",
    "ax.minorticks_on()\n",
    "ax.set_ylabel('Number of couts', fontsize=18)\n",
    "ax.set_xlabel('Time [ns]', fontsize=18)\n",
    "ax.set_title('Time distribution',fontsize=18)\n",
    "ax.grid()"
   ]
  },
  {
   "cell_type": "code",
   "execution_count": null,
   "id": "53d28f9d",
   "metadata": {},
   "outputs": [],
   "source": []
  },
  {
   "cell_type": "code",
   "execution_count": null,
   "id": "2df14cad",
   "metadata": {},
   "outputs": [],
   "source": []
  }
 ],
 "metadata": {
  "kernelspec": {
   "display_name": "py_3_10_8_env",
   "language": "python",
   "name": "py_3_10_8_env"
  },
  "language_info": {
   "codemirror_mode": {
    "name": "ipython",
    "version": 3
   },
   "file_extension": ".py",
   "mimetype": "text/x-python",
   "name": "python",
   "nbconvert_exporter": "python",
   "pygments_lexer": "ipython3",
   "version": "3.10.5"
  }
 },
 "nbformat": 4,
 "nbformat_minor": 5
}
